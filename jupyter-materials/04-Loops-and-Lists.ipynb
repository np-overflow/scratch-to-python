{
 "cells": [
  {
   "cell_type": "markdown",
   "metadata": {},
   "source": [
    "# Loops and Lists"
   ]
  },
  {
   "cell_type": "markdown",
   "metadata": {},
   "source": [
    "# Final Challenge\n",
    "In this challenge, you have been tasked to write a program that prints a message for each person in the list. \n",
    "\n",
    "### Inputs\n",
    "- The  `lists` of the people to greet\n",
    "\n",
    "### Outputs\n",
    "- `\"Hello {name}. You are No. {no} in the list.\"`\n",
    "\n",
    "### Tips\n",
    "- Use enumerate to get the index of the list\n",
    "\n",
    "### Sample\n",
    "```\n",
    "Who would you like to greet? Bob, Mary, Jane, Judy\n",
    "\n",
    "Hello Bob. You are No. 1 in the list. \n",
    "Hello Mary. You are No. 2 in the list. \n",
    "Hello Jane. You are No. 3 in the list. \n",
    "Hello Judy. You are No. 4 in the list. \n",
    "```\n"
   ]
  },
  {
   "cell_type": "code",
   "execution_count": null,
   "metadata": {},
   "outputs": [],
   "source": [
    "# Do your challenge here"
   ]
  }
 ],
 "metadata": {
  "kernelspec": {
   "display_name": "Python 3",
   "language": "python",
   "name": "python3"
  },
  "language_info": {
   "codemirror_mode": {
    "name": "ipython",
    "version": 3
   },
   "file_extension": ".py",
   "mimetype": "text/x-python",
   "name": "python",
   "nbconvert_exporter": "python",
   "pygments_lexer": "ipython3",
   "version": "3.6.5"
  }
 },
 "nbformat": 4,
 "nbformat_minor": 2
}
