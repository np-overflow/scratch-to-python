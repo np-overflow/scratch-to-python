{
 "cells": [
  {
   "cell_type": "markdown",
   "metadata": {},
   "source": [
    "# Welcome!\n",
    "\n",
    "## Introduction\n",
    "Welcome to the workshop! For this topic, we'll be learning more about what variables do, what they are for and what you can do with them!"
   ]
  },
  {
   "cell_type": "markdown",
   "metadata": {},
   "source": [
    "### Running\n",
    "To run the code block you currently selected, press _**Control + Enter**_. \n",
    "\n",
    "Try it in the block below!"
   ]
  },
  {
   "cell_type": "code",
   "execution_count": null,
   "metadata": {},
   "outputs": [],
   "source": [
    "print(\"It is working!\")"
   ]
  },
  {
   "cell_type": "markdown",
   "metadata": {},
   "source": [
    "If you only hit **Enter**, a new line would be entered into the code block. \n",
    "This is useful if you want to to write multiline code!"
   ]
  },
  {
   "cell_type": "code",
   "execution_count": 2,
   "metadata": {},
   "outputs": [
    {
     "name": "stdout",
     "output_type": "stream",
     "text": [
      "29\n"
     ]
    }
   ],
   "source": [
    "a = 29\n",
    "print(a)"
   ]
  },
  {
   "cell_type": "markdown",
   "metadata": {},
   "source": [
    "### Restarting\n",
    "When you run the cell, some data could potentially be saved and might conflict with the next set of code blocks that you might run. To ensure that it doesn't conflict, you can go to the top navigation bar and select \"Kernel -> Restart\" to reset your interpreter!"
   ]
  },
  {
   "cell_type": "markdown",
   "metadata": {},
   "source": [
    "### Mini-Challenge!\n",
    "Find the answer to the multiplication challenges the trainer says!"
   ]
  },
  {
   "cell_type": "code",
   "execution_count": 21,
   "metadata": {},
   "outputs": [
    {
     "data": {
      "text/plain": [
       "(20, 300)"
      ]
     },
     "execution_count": 21,
     "metadata": {},
     "output_type": "execute_result"
    }
   ],
   "source": [
    "# Type it below this text and press Control + Enter to run!\n",
    "862 + 209 * 985"
   ]
  },
  {
   "cell_type": "markdown",
   "metadata": {},
   "source": [
    "### Explanation Time!"
   ]
  },
  {
   "cell_type": "markdown",
   "metadata": {},
   "source": [
    "The main trainer will explain variables next!"
   ]
  },
  {
   "cell_type": "markdown",
   "metadata": {},
   "source": [
    "## What are variables?\n",
    "They are used to store values. You can then access the value that you stored in a variable by using the variable's name!"
   ]
  },
  {
   "cell_type": "code",
   "execution_count": null,
   "metadata": {},
   "outputs": [],
   "source": [
    "age = 24\n",
    "my_name = \"Tan Ah Kow\""
   ]
  },
  {
   "cell_type": "markdown",
   "metadata": {},
   "source": [
    "* Variables names:\n",
    "    * Cannot start with a digit\n",
    "    * Cannot contain spaces or punctuations"
   ]
  },
  {
   "cell_type": "markdown",
   "metadata": {},
   "source": [
    "### Printing variables\n",
    "Sometimes, you would want to know what is the current value of your variable!\n",
    "\n",
    "### To check, use `print` to display values!\n",
    "* Python lets you print things as text\n",
    "* To use it simple type `print()` and put the things that you want to print (e.g variable or text) in between the parenthesis! If you want to put multiple values, separate them with a comma!"
   ]
  },
  {
   "cell_type": "code",
   "execution_count": null,
   "metadata": {},
   "outputs": [],
   "source": [
    "trainer_age = 18\n",
    "print(\"Trainer's age is\", trainer_age)\n"
   ]
  },
  {
   "cell_type": "markdown",
   "metadata": {},
   "source": [
    "## Request input!\n",
    "In programming, you would want your user to key in something for you to store.\n",
    "To do so, type in `input()`. This will then request a input for the user.\n",
    "\n",
    "Once the user types in something and presses enter, the `input()` function will\n",
    "return what the user had keyed in as a string\n",
    "\n",
    "You can also give a question to the user to answer by typing in a string in between the parentheses in the `input()` function.\n",
    "\n",
    "Try it below!"
   ]
  },
  {
   "cell_type": "code",
   "execution_count": null,
   "metadata": {},
   "outputs": [],
   "source": [
    "my_age = input(\"What is your age?: \")"
   ]
  },
  {
   "cell_type": "markdown",
   "metadata": {},
   "source": [
    "## England is my city challenge!\n",
    "Before embarking on this, you should listen to the talk on types!\n",
    "\n",
    "1. Below, create variables to store your age `my_age`, where you live `my_place` and your name `my_name`\n",
    "    You need to use the `input()` function to set one of the three variables!\n",
    "2. Print these three variables so that they print `[my_age] lives at [my_place] and is [my_age] years old`\n",
    "\n",
    "**P.S** If you really have no idea, feel free to ask your trainer beside you!"
   ]
  },
  {
   "cell_type": "code",
   "execution_count": null,
   "metadata": {},
   "outputs": [],
   "source": [
    "# Create your variables and print them in this code block!\n"
   ]
  },
  {
   "cell_type": "markdown",
   "metadata": {},
   "source": [
    "### Arithmetics mini-challenge\n",
    "\n",
    "At the beginning you were tasked to do multiplication challenges.\n",
    "\n",
    "How about doing a similar challenge but we store all the answers into variables?\n",
    "\n",
    "The challenge will be flashed again. Store the answer by calculating and assigning it to a variable. The first one is done so for you :)\n",
    "\n",
    "Store your answers in `ans_one`, `ans_two`, `ans_three`, `ans_four` respectively\n",
    "\n",
    "**PSSS** If you forgot how to print multiple variables together in one line check the **Printing Variables** section!"
   ]
  },
  {
   "cell_type": "code",
   "execution_count": null,
   "metadata": {},
   "outputs": [],
   "source": [
    "# Calculate and print all the answers!\n",
    "ans_one = 312 * 80 - 25\n",
    "\n",
    "\n",
    "\n",
    "print(ans_one)"
   ]
  },
  {
   "cell_type": "markdown",
   "metadata": {},
   "source": [
    "### Incrementing a variable\n",
    "Tinker with the value of c!\n",
    "You can use the equal sign again if you want to reassign the value of a variable!"
   ]
  },
  {
   "cell_type": "code",
   "execution_count": null,
   "metadata": {},
   "outputs": [],
   "source": [
    "c = 25\n"
   ]
  },
  {
   "cell_type": "markdown",
   "metadata": {},
   "source": [
    "## Strings\n",
    "You have encountered strings in the previous exercises.\n",
    "But did you know you can also perform mathematical operations to them?\n",
    "\n",
    "Create two variables to store two different strings.\n",
    "Add them together and assign it to another variable\n",
    "Print it out to see what happens!\n",
    "\n",
    "Also, try multiplying a string with an int. Print out to see what happens!"
   ]
  },
  {
   "cell_type": "code",
   "execution_count": null,
   "metadata": {},
   "outputs": [],
   "source": [
    "# Do your string operations here!"
   ]
  },
  {
   "cell_type": "markdown",
   "metadata": {},
   "source": [
    "## Converting to other data types\n",
    "The value that is returned in an input funnction is of type 'string'.\n",
    "\n",
    "Sometimes, this isn't always great as you might need the variable to be another type (e.g to perform mathematical operations). To convert it, you can use these type conversion functions.\n",
    "\n",
    "`str()` to convert value in the variable to string\n",
    "\n",
    "`float()` to convert the value in the variable to a float\n",
    "\n",
    "`int()` to convert the value in the variable to an int\n",
    "\n",
    "** REMEMBER, your value has a type -- your variable is just a label**\n",
    "\n",
    "Try it out below!\n",
    "\n",
    "In this challenge, convert your input to type `int` and print out how old you will be in 10 years"
   ]
  },
  {
   "cell_type": "code",
   "execution_count": null,
   "metadata": {},
   "outputs": [],
   "source": [
    "my_age = input('Please input your age')\n",
    "# Try to convert the above variable into a int and print out how old you will be in 10 years!"
   ]
  },
  {
   "cell_type": "markdown",
   "metadata": {},
   "source": [
    "## Keypoints\n",
    "\n",
    "1. \"Use variables to store values.\"\n",
    "2. \"Use `print` to display values.\"\n",
    "3. \"Variables remain stored between codeblocks. Remember to go Kernel -> Restart to clear all stored variables!\"\n",
    "4. \"Variables must be created before they are used.\"\n",
    "5. \"Python is case-sensitive.\"\n",
    "6. \"Variables can be used in calculations.\"\n",
    "7. \"Use meaningful variable names."
   ]
  },
  {
   "cell_type": "markdown",
   "metadata": {},
   "source": [
    "# Final Challenge\n",
    "## Inputs\n",
    "- The person's `height` in cm\n",
    "- The person's `mass` in kg\n",
    " \n",
    "## Outputs\n",
    "- The person's `bmi`\n",
    "\n",
    "## Tips\n",
    "![BMI Formula](http://www.whathealth.com/bmi/images/bmiformula-metric.png)\n",
    "\n",
    "- Remember to convert the `height` to m\n",
    "- `input` receives the user input as a `str`, not a `float` or an `int`\n",
    "\n",
    "## Sample\n",
    "```\n",
    "What is your height (cm)? 163\n",
    "What is your weight (kg)? 57\n",
    "Your BMI is 21.5!\n",
    "```\n"
   ]
  },
  {
   "cell_type": "code",
   "execution_count": null,
   "metadata": {},
   "outputs": [],
   "source": [
    "# Do your challenge here"
   ]
  }
 ],
 "metadata": {
  "kernelspec": {
   "display_name": "Python 3",
   "language": "python",
   "name": "python3"
  },
  "language_info": {
   "codemirror_mode": {
    "name": "ipython",
    "version": 3
   },
   "file_extension": ".py",
   "mimetype": "text/x-python",
   "name": "python",
   "nbconvert_exporter": "python",
   "pygments_lexer": "ipython3",
   "version": "3.6.5"
  }
 },
 "nbformat": 4,
 "nbformat_minor": 2
}
