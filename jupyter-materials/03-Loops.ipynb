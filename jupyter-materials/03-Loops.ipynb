{
 "cells": [
  {
   "cell_type": "markdown",
   "metadata": {},
   "source": [
    "# Welcome!\n",
    "\n",
    "## Introduction\n",
    "In this topic, we will be learning about loops and why they are so so so useful."
   ]
  },
  {
   "cell_type": "markdown",
   "metadata": {},
   "source": [
    "## Why loops?\n",
    "Loops help us to repeat code, so we can save on typing and also reduce the chances of wrongly copying code. For example, take a look at the following"
   ]
  },
  {
   "cell_type": "code",
   "execution_count": 4,
   "metadata": {
    "scrolled": true
   },
   "outputs": [
    {
     "name": "stdout",
     "output_type": "stream",
     "text": [
      "Using copy and paste...\n",
      "1\n",
      "2\n",
      "3\n",
      "4\n",
      "5\n",
      "6\n",
      "7\n",
      "8\n",
      "9\n",
      "10\n",
      "11\n",
      "13\n",
      "14\n",
      "15\n",
      "16\n",
      "17\n",
      "18\n",
      "19\n",
      "20\n",
      "\n",
      "Using loops...\n",
      "1\n",
      "2\n",
      "3\n",
      "4\n",
      "5\n",
      "6\n",
      "7\n",
      "8\n",
      "9\n",
      "10\n",
      "11\n",
      "12\n",
      "13\n",
      "14\n",
      "15\n",
      "16\n",
      "17\n",
      "18\n",
      "19\n",
      "20\n"
     ]
    }
   ],
   "source": [
    "# Printing the numbers from 1 to 20 using copy and paste\n",
    "print('Using copy and paste...')\n",
    "print(1)\n",
    "print(2)\n",
    "print(3)\n",
    "print(4)\n",
    "print(5)\n",
    "print(6)\n",
    "print(7)\n",
    "print(8)\n",
    "print(9)\n",
    "print(10)\n",
    "print(11)\n",
    "print(13)\n",
    "print(14)\n",
    "print(15)\n",
    "print(16)\n",
    "print(17)\n",
    "print(18)\n",
    "print(19)\n",
    "print(20)\n",
    "print()\n",
    "\n",
    "# Printing the numbers from 1 to 20 using loops\n",
    "print('Using loops...')\n",
    "for i in range(1, 21):\n",
    "    print(i)"
   ]
  },
  {
   "cell_type": "markdown",
   "metadata": {},
   "source": [
    "## Did you see the difference?\n",
    "Look at how little code using loops took, as compared to copying the `print`s again and again. Also, I bet you didn't notice the missing `12`, did ya?\n",
    "\n",
    "Using loops not only helps us reduce **time** and **effort**, it also reduces **error**. But of course, only when you use them correctly."
   ]
  },
  {
   "cell_type": "markdown",
   "metadata": {},
   "source": [
    "## Loops 101\n",
    "There are two main kinds of loops: the `for` loop, and the `while` loop."
   ]
  },
  {
   "cell_type": "markdown",
   "metadata": {},
   "source": [
    "### `while` loop\n",
    "The `while` loop is just like an `if` statement (remember, from the last chapter?). However, instead of running the code inside **once** if the condition is fulfilled, it runs the code repeatedly **while** the condition is fulfilled.\n",
    "\n",
    "Take the following example"
   ]
  },
  {
   "cell_type": "code",
   "execution_count": 8,
   "metadata": {},
   "outputs": [
    {
     "name": "stdout",
     "output_type": "stream",
     "text": [
      "If statement...\n",
      "1\n",
      "\n",
      "While loop...\n",
      "1\n",
      "2\n",
      "3\n",
      "4\n",
      "5\n"
     ]
    }
   ],
   "source": [
    "# If statement\n",
    "print('If statement...')\n",
    "counter = 0\n",
    "\n",
    "if counter < 5:\n",
    "    counter = counter + 1\n",
    "    print(counter)\n",
    "    \n",
    "print()\n",
    "\n",
    "# While loop\n",
    "print('While loop...')\n",
    "counter = 0\n",
    "\n",
    "while counter < 5:\n",
    "    counter = counter + 1  \n",
    "    print(counter)"
   ]
  },
  {
   "cell_type": "markdown",
   "metadata": {},
   "source": [
    "Did you see how the `while` loop kept adding to `counter` until `counter` was no longer `< 5`? That's the *power* of a `while` loop."
   ]
  },
  {
   "cell_type": "markdown",
   "metadata": {},
   "source": [
    "### `for` loop\n",
    "Now, a `for` loop is a more *powerful* version of a `while` loop (believe it or not), as it allows for more complex looping to be done.\n",
    "\n",
    "The most basic example is looping through some numbers"
   ]
  },
  {
   "cell_type": "code",
   "execution_count": 10,
   "metadata": {},
   "outputs": [
    {
     "name": "stdout",
     "output_type": "stream",
     "text": [
      "For loop...\n",
      "1\n",
      "2\n",
      "3\n",
      "4\n",
      "5\n"
     ]
    }
   ],
   "source": [
    "# Looping from 1 to 5\n",
    "print('For loop...')\n",
    "for i in range(1, 6):\n",
    "    print(i)"
   ]
  },
  {
   "cell_type": "markdown",
   "metadata": {},
   "source": [
    "We will cover the more complex examples later.\n",
    "\n",
    "For now, notice that I used `range` in the example. `range` is something built into Python, that generates numbers between the two numbers specified, including the first number.\n",
    "\n",
    "So `range(2, 5)` would generate `2, 3, 4`, while `range(4, 10)` would generate `4, 5, 6, 7, 8, 9`.\n",
    "\n",
    "So, when we use the `for` loop like this, what we are saying is that \"`for` each number in this range, run the code in the loop\".\n",
    "\n",
    "Now, when we are looping through the numbers, most of the time, we need a way to get the current number. This is where the `i` comes into play. The `i`, in this case, holds the value of the current number. As shown above, in the first run, `i` holds the value `1`, while in the second, it holds the value `2`. This continues on for each number in the range.\n",
    "\n",
    "Here is another example"
   ]
  },
  {
   "cell_type": "code",
   "execution_count": 11,
   "metadata": {},
   "outputs": [
    {
     "name": "stdout",
     "output_type": "stream",
     "text": [
      "For loop...\n",
      "7\n",
      "8\n",
      "9\n",
      "10\n",
      "11\n",
      "12\n",
      "13\n",
      "14\n",
      "15\n",
      "16\n",
      "17\n",
      "18\n",
      "19\n",
      "20\n"
     ]
    }
   ],
   "source": [
    "# Looping from 7 to 20\n",
    "print('For loop...')\n",
    "for number in range(7, 21):\n",
    "    print(number)"
   ]
  },
  {
   "cell_type": "markdown",
   "metadata": {},
   "source": [
    "As you can see, you can name the variable in the `for` loop anything you want. In this example, I named it `number`. Also, it did no"
   ]
  },
  {
   "cell_type": "markdown",
   "metadata": {},
   "source": [
    "# Final Challenge\n",
    "\n",
    "In this challenge, you have been tasked to write a program that draws a triangle \n",
    "\n",
    "### Inputs\n",
    "- The  `base` of the triangle\n",
    "\n",
    "### Outputs\n",
    "- The triangle\n",
    "\n",
    "\n",
    "\n",
    "### Sample\n",
    "```\n",
    "What is the base of the pyramid? 5\n",
    "*\n",
    "**\n",
    "***\n",
    "****\n",
    "*****\n",
    "```\n"
   ]
  },
  {
   "cell_type": "code",
   "execution_count": null,
   "metadata": {},
   "outputs": [],
   "source": [
    "# Do your challenge here"
   ]
  }
 ],
 "metadata": {
  "kernelspec": {
   "display_name": "Python 3",
   "language": "python",
   "name": "python3"
  },
  "language_info": {
   "codemirror_mode": {
    "name": "ipython",
    "version": 3
   },
   "file_extension": ".py",
   "mimetype": "text/x-python",
   "name": "python",
   "nbconvert_exporter": "python",
   "pygments_lexer": "ipython3",
   "version": "3.6.5"
  }
 },
 "nbformat": 4,
 "nbformat_minor": 2
}
