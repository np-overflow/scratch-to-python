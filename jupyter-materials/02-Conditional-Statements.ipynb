{
 "cells": [
  {
   "cell_type": "markdown",
   "metadata": {},
   "source": [
    "# Welcome\n",
    "## Introduction\n",
    "Welcome to this workshop. For this topic, we will be looking at conditional statements.\n",
    "\n",
    "Conditional statements are just like light switches. You only want the light to turn on only when the switch is turned on.\n",
    "This is similar to conditional statements in code. \n",
    "    In code, you use `if`, `else`, and `elif`(else if) statements to control whether a block of code should be executed. \n",
    "\n",
    "If statements are always in this format   \n",
    "\n",
    "``` if condition:\n",
    "    do_something\n",
    "```  \n",
    "The conditions in if statements are always **booleans** (True / False)\n",
    "\n",
    "So if statements **always** operate on booleans\n",
    "\n",
    "To help us with that, python has given us comparision operators\n",
    "\n",
    "![Comparison Operators](https://d1e4pidl3fu268.cloudfront.net/48295477-61ac-4b5e-a6dc-456acd3ab0a6/comparisonoperators.png)\n",
    "\n",
    "### Try it out"
   ]
  },
  {
   "cell_type": "code",
   "execution_count": null,
   "metadata": {},
   "outputs": [],
   "source": [
    "# Try out comparison operators here\n",
    "a = 10\n",
    "b = 20\n",
    "print(a >= b)\n",
    "print(a <= b)"
   ]
  },
  {
   "cell_type": "markdown",
   "metadata": {},
   "source": [
    "We can use these comparison operations to get boolean values to use in `if` statements. "
   ]
  },
  {
   "cell_type": "code",
   "execution_count": null,
   "metadata": {},
   "outputs": [],
   "source": [
    "number = 75\n",
    "if number > 100:\n",
    "    print(\"Number is greater than 100\")\n",
    "if number < 100:\n",
    "    print(\"Number is lesser than 100\")"
   ]
  },
  {
   "cell_type": "markdown",
   "metadata": {},
   "source": [
    "Along with the `if` statement, we are given the `else` statement.  \n",
    "``` \n",
    "if condition:\n",
    "    do_something\n",
    "else:\n",
    "    do_something_else\n",
    "```  \n",
    "the code in the else block is run only when the condition is **false**. "
   ]
  },
  {
   "cell_type": "code",
   "execution_count": null,
   "metadata": {},
   "outputs": [],
   "source": [
    "# Try it out\n",
    "age = 17\n",
    "\n",
    "if age > 18:\n",
    "    print(\"You' are an adult\")\n",
    "else:\n",
    "    print(\"You are not an adult\")"
   ]
  },
  {
   "cell_type": "code",
   "execution_count": null,
   "metadata": {},
   "outputs": [],
   "source": [
    "# There are issues with if statements though\n",
    "age = 10\n",
    "if age < 18:\n",
    "    print(\"You are a teenager\")\n",
    "if age < 12:\n",
    "    print(\"You are a child\")\n"
   ]
  },
  {
   "cell_type": "markdown",
   "metadata": {},
   "source": [
    "Do you see the issue here? \n",
    "Both if statements are being run, but you only want one of them to run. This is where else if statements are useful. "
   ]
  },
  {
   "cell_type": "markdown",
   "metadata": {},
   "source": [
    "However, what if you have more conditions to run. you can use an `elif` statement.  \n",
    "`elif` stands for else if\n",
    "\n",
    "```\n",
    "if condition:\n",
    "    do_something\n",
    "elif another_condition:\n",
    "    do_something_else\n",
    "elif another_one:\n",
    "    do_something_different\n",
    "else:\n",
    "    do_something_normal\n",
    "```\n",
    "\n",
    "elif statements are used when you have multiple conditions"
   ]
  },
  {
   "cell_type": "code",
   "execution_count": null,
   "metadata": {},
   "outputs": [],
   "source": [
    "# Try it out\n",
    "age = 21\n",
    "\n",
    "if age > 18:\n",
    "    print(\"You are an adult\")\n",
    "elif age < 12:\n",
    "    print(\"You are a child\")\n",
    "else:\n",
    "    print(\"You are a teenager\")"
   ]
  },
  {
   "cell_type": "markdown",
   "metadata": {},
   "source": [
    "There are 2 more operators in python  \n",
    "`and` and `or` operators  \n",
    "`and` operator returns true when the value on both sides are true  "
   ]
  },
  {
   "cell_type": "code",
   "execution_count": null,
   "metadata": {},
   "outputs": [],
   "source": [
    "a = True\n",
    "b = True\n",
    "c = False\n",
    "print (a and b)\n",
    "print (a and c)"
   ]
  },
  {
   "cell_type": "markdown",
   "metadata": {},
   "source": [
    "`or` operator returns true when either value is true"
   ]
  },
  {
   "cell_type": "code",
   "execution_count": null,
   "metadata": {},
   "outputs": [],
   "source": [
    "a = True\n",
    "b = False\n",
    "c = False\n",
    "print (a or b)\n",
    "print (b or c)"
   ]
  },
  {
   "cell_type": "code",
   "execution_count": null,
   "metadata": {},
   "outputs": [],
   "source": [
    "age = 21\n",
    "if age > 18:\n",
    "    print(\"You are an adult\")\n",
    "elif age > 12 and age < 18:\n",
    "    print(\"You are a teenager\")\n",
    "else:\n",
    "    print(\"You are a child\")"
   ]
  },
  {
   "cell_type": "markdown",
   "metadata": {},
   "source": [
    "# Challenge 2: Conditional Statements\n",
    "In this challenge, you have been tasked to write a program that calculates the BMI of the person and tells them whether they are overweight or underweight. \n",
    "\n",
    "| BMI Range(w) \t\t\t| Status\t\t\t|\n",
    "|:-------------------:|:-------------:|\n",
    "|bmi < 18.5\t\t\t\t| Underweight \t|\n",
    "|18.5 <= bmi <= 24.9\t| Normal Weight\t|\n",
    "|25.0 <= bmi <= 29.9\t| Overweight\t\t|\n",
    "|bmi > 30.0\t\t\t\t| Obese\t\t\t|\n",
    "\n",
    "### Inputs\n",
    "- The person's `height` in cn\n",
    "- The person's `weight` in kg\n",
    "\n",
    "### Outputs\n",
    "- The person's `bmi` and message stating their `bmi_status`\n",
    "\n",
    "### Tips\n",
    "![BMI Formula](http://www.whathealth.com/bmi/images/bmiformula-metric.png)\n",
    "\n",
    "- Follow the BMI calculation logic from the previous challenge\n",
    "- Use the `if elif else` statements that you have learnt\n",
    "\n",
    "### Sample\n",
    "```\n",
    "What is your height (cm)? 163\n",
    "What is your weight (kg)? 45\n",
    "Your BMI is 16.94 and you are underweight\n",
    "```\n",
    "```\n",
    "What is your height (cm)? 163\n",
    "What is your weight (kg)? 57\n",
    "Your BMI is 21.5 and you are of normal weight :)\n",
    "```\n",
    "```\n",
    "What is your height (cm)? 163\n",
    "What is your weight (kg)? 70\n",
    "Your BMI is 26.35 and you are overweight\n",
    "```\n",
    "```\n",
    "What is your height (cm)? 163\n",
    "What is your weight (kg)? 80\n",
    "Your BMI is 30.11 and you are obese\n",
    "```\n"
   ]
  },
  {
   "cell_type": "code",
   "execution_count": null,
   "metadata": {},
   "outputs": [],
   "source": [
    "# Write your code here"
   ]
  }
 ],
 "metadata": {
  "kernelspec": {
   "display_name": "Python 3",
   "language": "python",
   "name": "python3"
  },
  "language_info": {
   "codemirror_mode": {
    "name": "ipython",
    "version": 3
   },
   "file_extension": ".py",
   "mimetype": "text/x-python",
   "name": "python",
   "nbconvert_exporter": "python",
   "pygments_lexer": "ipython3",
   "version": "3.6.2"
  }
 },
 "nbformat": 4,
 "nbformat_minor": 2
}
