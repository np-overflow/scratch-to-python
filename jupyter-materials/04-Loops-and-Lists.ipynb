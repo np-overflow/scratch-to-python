{
 "cells": [
  {
   "cell_type": "markdown",
   "metadata": {},
   "source": [
    "# Welcome!\n",
    "\n",
    "## Introduction\n",
    "In this topic, we shall discuss what \"lists\" are and why are they useful. Then, we will learn about more interesting loops."
   ]
  },
  {
   "cell_type": "markdown",
   "metadata": {},
   "source": [
    "## Lists?\n",
    "Lists exist everywherein your life. Your shopping list, bucket list, TV series catch-up list, todo list... And many more! Since they are so popular, Python decided to have their own kind of lists!\n",
    "\n",
    "In Python, you can store lists of `int`s, `str`s, `floats`s, and pretty much any other type of variable. You can even store lists of lists! But we'll get to that later.\n",
    "\n",
    "First of, let's cover the basics"
   ]
  },
  {
   "cell_type": "code",
   "execution_count": 3,
   "metadata": {},
   "outputs": [],
   "source": [
    "# Creating some lists\n",
    "int_list = [1, 2, 3, 4, 5]\n",
    "\n",
    "float_list = [2.7, 3.14, 6.28]\n",
    "\n",
    "str_list = ['Some', 'strings', 'in', 'a', 'list']\n",
    "\n",
    "bool_list = [True, False, True, True, False]\n",
    "\n",
    "mixed_list = [1, 'Some', False, 4, 3.14159]"
   ]
  },
  {
   "cell_type": "markdown",
   "metadata": {},
   "source": [
    "As you can see, to create a list, all you need are `[`, some `,`s and `]`.\n",
    "\n",
    "Quick note: A list will never change its order without you telling it to. What this means is that if you create a list `[5, 7, 2]`, it will **remain** as `[5, 7, 2]`, and not `[2, 5, 7]` or `[7, 2, 5]`."
   ]
  },
  {
   "cell_type": "markdown",
   "metadata": {},
   "source": [
    "## Getting items from a list\n",
    "Getting items from a list is actually really simple. Once again, you just need `[` and `]`."
   ]
  },
  {
   "cell_type": "code",
   "execution_count": 4,
   "metadata": {},
   "outputs": [
    {
     "name": "stdout",
     "output_type": "stream",
     "text": [
      "2\n",
      "6\n"
     ]
    }
   ],
   "source": [
    "# Create the list\n",
    "the_list = [2, 4, 6, 8, 10]\n",
    "\n",
    "# Get the first item in the list\n",
    "first_item = the_list[0]\n",
    "print(first_item)\n",
    "\n",
    "# Get the third item in the list\n",
    "third_item = the_list[2]\n",
    "print(third_item)"
   ]
  },
  {
   "cell_type": "markdown",
   "metadata": {},
   "source": [
    "When trying to get items within a list, you simply use their position in the list. The first item in the list would be at position `0`, while the third would be at position `2`.\n",
    "\n",
    "I'm sure you noticed... programmers like to start counting from `0`! This is very important to remember because it is a very common mistake that even experts tend to make. So, **be careful**.\n",
    "\n",
    "Another common mistake is trying to get items that don't exist. Here's an example"
   ]
  },
  {
   "cell_type": "code",
   "execution_count": 6,
   "metadata": {},
   "outputs": [
    {
     "ename": "IndexError",
     "evalue": "list index out of range",
     "output_type": "error",
     "traceback": [
      "\u001b[0;31m---------------------------------------------------------------------------\u001b[0m",
      "\u001b[0;31mIndexError\u001b[0m                                Traceback (most recent call last)",
      "\u001b[0;32m<ipython-input-6-b0a37bcfeeb3>\u001b[0m in \u001b[0;36m<module>\u001b[0;34m()\u001b[0m\n\u001b[1;32m      3\u001b[0m \u001b[0;34m\u001b[0m\u001b[0m\n\u001b[1;32m      4\u001b[0m \u001b[0;31m# Get the eighth item in the list (Wait what?)\u001b[0m\u001b[0;34m\u001b[0m\u001b[0;34m\u001b[0m\u001b[0m\n\u001b[0;32m----> 5\u001b[0;31m \u001b[0mfirst_item\u001b[0m \u001b[0;34m=\u001b[0m \u001b[0mthe_list\u001b[0m\u001b[0;34m[\u001b[0m\u001b[0;36m7\u001b[0m\u001b[0;34m]\u001b[0m\u001b[0;34m\u001b[0m\u001b[0m\n\u001b[0m",
      "\u001b[0;31mIndexError\u001b[0m: list index out of range"
     ]
    }
   ],
   "source": [
    "# Create the list\n",
    "the_list = [2, 4, 6, 8, 10]\n",
    "\n",
    "# Get the eighth item in the list (Wait what?)\n",
    "first_item = the_list[7]"
   ]
  },
  {
   "cell_type": "markdown",
   "metadata": {},
   "source": [
    "Obviously, the list above does not have 8 items, so how can there be an eighth item in the list?? When that happens, the program crashes with the error `list index out of range`, which means that the position given to the list is out of the range of the list.\n",
    "\n",
    "So, **be careful**."
   ]
  },
  {
   "cell_type": "markdown",
   "metadata": {},
   "source": [
    "## Adding items to a list\n",
    "There are **three** main ways of adding items to a list."
   ]
  },
  {
   "cell_type": "markdown",
   "metadata": {},
   "source": [
    "### Overwrite an existing item\n",
    "Have to be careful, since this overwrites the existing item."
   ]
  },
  {
   "cell_type": "code",
   "execution_count": 7,
   "metadata": {},
   "outputs": [
    {
     "name": "stdout",
     "output_type": "stream",
     "text": [
      "[2, 6, 6, 8, 10]\n"
     ]
    }
   ],
   "source": [
    "# Create the list\n",
    "the_list = [2, 4, 6, 8, 10]\n",
    "\n",
    "# Overwriting the second item\n",
    "the_list[1] = 6\n",
    "print(the_list)"
   ]
  },
  {
   "cell_type": "markdown",
   "metadata": {},
   "source": [
    "### Append a new item\n",
    "Adds a new item to the back of the list."
   ]
  },
  {
   "cell_type": "code",
   "execution_count": 8,
   "metadata": {},
   "outputs": [
    {
     "name": "stdout",
     "output_type": "stream",
     "text": [
      "[2, 4, 6, 8, 10, 12]\n"
     ]
    }
   ],
   "source": [
    "# Create the list\n",
    "the_list = [2, 4, 6, 8, 10]\n",
    "\n",
    "# Appending a new item\n",
    "the_list.append(12)\n",
    "print(the_list)"
   ]
  },
  {
   "cell_type": "markdown",
   "metadata": {},
   "source": [
    "### Inserting a new item in between\n",
    "This inserts a new item somewhere inside the list."
   ]
  },
  {
   "cell_type": "code",
   "execution_count": 9,
   "metadata": {},
   "outputs": [
    {
     "name": "stdout",
     "output_type": "stream",
     "text": [
      "[2, 3, 4, 6, 8, 10]\n"
     ]
    }
   ],
   "source": [
    "# Create the list\n",
    "the_list = [2, 4, 6, 8, 10]\n",
    "\n",
    "# Insert a new item at the second spot\n",
    "the_list.insert(1, 3)\n",
    "print(the_list)"
   ]
  },
  {
   "cell_type": "markdown",
   "metadata": {},
   "source": [
    "## Removing items from the list\n",
    "Removing items from the list is much simpler. This is an example"
   ]
  },
  {
   "cell_type": "code",
   "execution_count": 12,
   "metadata": {},
   "outputs": [
    {
     "name": "stdout",
     "output_type": "stream",
     "text": [
      "[2, 4, 6, 8]\n"
     ]
    }
   ],
   "source": [
    "# Create the list\n",
    "the_list = [2, 4, 6, 8, 10]\n",
    "\n",
    "# Remove 10 from the list\n",
    "the_list.remove(10)\n",
    "print(the_list)"
   ]
  },
  {
   "cell_type": "markdown",
   "metadata": {},
   "source": [
    "As you can see, 10 was removed from the list of numbers. But what if you try to remove something that doesn't exist?"
   ]
  },
  {
   "cell_type": "code",
   "execution_count": 13,
   "metadata": {
    "scrolled": true
   },
   "outputs": [
    {
     "ename": "ValueError",
     "evalue": "list.remove(x): x not in list",
     "output_type": "error",
     "traceback": [
      "\u001b[0;31m---------------------------------------------------------------------------\u001b[0m",
      "\u001b[0;31mValueError\u001b[0m                                Traceback (most recent call last)",
      "\u001b[0;32m<ipython-input-13-ac339a914467>\u001b[0m in \u001b[0;36m<module>\u001b[0;34m()\u001b[0m\n\u001b[1;32m      3\u001b[0m \u001b[0;34m\u001b[0m\u001b[0m\n\u001b[1;32m      4\u001b[0m \u001b[0;31m# Remove 12 from the list (Wait what?)\u001b[0m\u001b[0;34m\u001b[0m\u001b[0;34m\u001b[0m\u001b[0m\n\u001b[0;32m----> 5\u001b[0;31m \u001b[0mthe_list\u001b[0m\u001b[0;34m.\u001b[0m\u001b[0mremove\u001b[0m\u001b[0;34m(\u001b[0m\u001b[0;36m12\u001b[0m\u001b[0;34m)\u001b[0m\u001b[0;34m\u001b[0m\u001b[0m\n\u001b[0m\u001b[1;32m      6\u001b[0m \u001b[0mprint\u001b[0m\u001b[0;34m(\u001b[0m\u001b[0mthe_list\u001b[0m\u001b[0;34m)\u001b[0m\u001b[0;34m\u001b[0m\u001b[0m\n",
      "\u001b[0;31mValueError\u001b[0m: list.remove(x): x not in list"
     ]
    }
   ],
   "source": [
    "# Create the list\n",
    "the_list = [2, 4, 6, 8, 10]\n",
    "\n",
    "# Remove 12 from the list (Wait what?)\n",
    "the_list.remove(12)\n",
    "print(the_list)"
   ]
  },
  {
   "cell_type": "markdown",
   "metadata": {},
   "source": [
    "Well, as with the earlier issue with getting a non-existent item, trying to remove a non-existent item will crash the program. So, **be careful**."
   ]
  },
  {
   "cell_type": "markdown",
   "metadata": {},
   "source": [
    "## What has this got to do with loops...\n",
    "Glad you asked! Since we covered most of the operations you can perform on lists, let's talk about looping through lists!\n",
    "\n",
    "Looping through lists is actually really simple. You just need to use a `for` loop."
   ]
  },
  {
   "cell_type": "code",
   "execution_count": 15,
   "metadata": {},
   "outputs": [
    {
     "name": "stdout",
     "output_type": "stream",
     "text": [
      "Sam\n",
      "Jane\n",
      "Tom\n",
      "Mary\n"
     ]
    }
   ],
   "source": [
    "# Create the list\n",
    "the_list = ['Sam', 'Jane', 'Tom', 'Mary']\n",
    "\n",
    "# Loop through the list\n",
    "for name in the_list:\n",
    "    print(name)"
   ]
  },
  {
   "cell_type": "markdown",
   "metadata": {},
   "source": [
    "What? It's actually that simple? Well, yes.\n",
    "\n",
    "Now, you might be wondering, what if I need to know the position of these people, like perhaps in a scoreboard or something? Fear not, Python has got you covered."
   ]
  },
  {
   "cell_type": "code",
   "execution_count": 16,
   "metadata": {},
   "outputs": [
    {
     "name": "stdout",
     "output_type": "stream",
     "text": [
      "0 Sam\n",
      "1 Jane\n",
      "2 Tom\n",
      "3 Mary\n"
     ]
    }
   ],
   "source": [
    "# Create the list\n",
    "the_list = ['Sam', 'Jane', 'Tom', 'Mary']\n",
    "\n",
    "# Loop through the list\n",
    "for pos, name in enumerate(the_list):\n",
    "    print(pos, name)"
   ]
  },
  {
   "cell_type": "markdown",
   "metadata": {},
   "source": [
    "There we go!"
   ]
  },
  {
   "cell_type": "markdown",
   "metadata": {},
   "source": [
    "# Final Challenge\n",
    "In this challenge, you have been tasked to write a program that prints a message for each person in the list. \n",
    "\n",
    "### Inputs\n",
    "- The  `lists` of the people to greet\n",
    "\n",
    "### Outputs\n",
    "- `\"Hello {name}. You are No. {no} in the list.\"`\n",
    "\n",
    "### Tips\n",
    "- Use enumerate to get the index of the list\n",
    "\n",
    "### Sample\n",
    "```\n",
    "Who would you like to greet? Bob, Mary, Jane, Judy\n",
    "\n",
    "Hello Bob. You are No. 1 in the list. \n",
    "Hello Mary. You are No. 2 in the list. \n",
    "Hello Jane. You are No. 3 in the list. \n",
    "Hello Judy. You are No. 4 in the list. \n",
    "```\n"
   ]
  },
  {
   "cell_type": "code",
   "execution_count": null,
   "metadata": {},
   "outputs": [],
   "source": [
    "# Do your challenge here"
   ]
  }
 ],
 "metadata": {
  "kernelspec": {
   "display_name": "Python 3",
   "language": "python",
   "name": "python3"
  },
  "language_info": {
   "codemirror_mode": {
    "name": "ipython",
    "version": 3
   },
   "file_extension": ".py",
   "mimetype": "text/x-python",
   "name": "python",
   "nbconvert_exporter": "python",
   "pygments_lexer": "ipython3",
   "version": "3.6.5"
  }
 },
 "nbformat": 4,
 "nbformat_minor": 2
}
