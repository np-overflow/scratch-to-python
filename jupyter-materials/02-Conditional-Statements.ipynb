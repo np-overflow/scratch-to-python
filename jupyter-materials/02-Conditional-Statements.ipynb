{
 "cells": [
  {
   "cell_type": "markdown",
   "metadata": {},
   "source": [
    "# Conditional Statements\n"
   ]
  },
  {
   "cell_type": "markdown",
   "metadata": {},
   "source": [
    "# Challenge 2: Conditional Statements\n",
    "In this challenge, you have been tasked to write a program that calculates the BMI of the person and tells them whether they are overweight or underweight. \n",
    "\n",
    "| BMI Range(w) \t\t\t| Status\t\t\t|\n",
    "|:-------------------:|:-------------:|\n",
    "|bmi < 18.5\t\t\t\t| Underweight \t|\n",
    "|18.5 <= bmi <= 24.9\t| Normal Weight\t|\n",
    "|25.0 <= bmi <= 29.9\t| Overweight\t\t|\n",
    "|bmi > 30.0\t\t\t\t| Obese\t\t\t|\n",
    "\n",
    "### Inputs\n",
    "- The person's `height` in cn\n",
    "- The person's `weight` in kg\n",
    "\n",
    "### Outputs\n",
    "- The person's `bmi` and message stating their `bmi_status`\n",
    "\n",
    "### Tips\n",
    "![BMI Formula](http://www.whathealth.com/bmi/images/bmiformula-metric.png)\n",
    "\n",
    "- Follow the BMI calculation logic from the previous challenge\n",
    "- Use the `if elif else` statements that you have learnt\n",
    "\n",
    "### Sample\n",
    "```\n",
    "What is your height (cm)? 163\n",
    "What is your weight (kg)? 45\n",
    "Your BMI is 16.94 and you are underweight\n",
    "```\n",
    "```\n",
    "What is your height (cm)? 163\n",
    "What is your weight (kg)? 57\n",
    "Your BMI is 21.5 and you are of normal weight :)\n",
    "```\n",
    "```\n",
    "What is your height (cm)? 163\n",
    "What is your weight (kg)? 70\n",
    "Your BMI is 26.35 and you are overweight\n",
    "```\n",
    "```\n",
    "What is your height (cm)? 163\n",
    "What is your weight (kg)? 80\n",
    "Your BMI is 30.11 and you are obese\n",
    "```\n"
   ]
  },
  {
   "cell_type": "code",
   "execution_count": null,
   "metadata": {},
   "outputs": [],
   "source": [
    "# Write your code here"
   ]
  }
 ],
 "metadata": {
  "kernelspec": {
   "display_name": "Python 3",
   "language": "python",
   "name": "python3"
  },
  "language_info": {
   "codemirror_mode": {
    "name": "ipython",
    "version": 3
   },
   "file_extension": ".py",
   "mimetype": "text/x-python",
   "name": "python",
   "nbconvert_exporter": "python",
   "pygments_lexer": "ipython3",
   "version": "3.6.5"
  }
 },
 "nbformat": 4,
 "nbformat_minor": 2
}
